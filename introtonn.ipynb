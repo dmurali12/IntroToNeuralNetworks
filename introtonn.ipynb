{
  "nbformat": 4,
  "nbformat_minor": 0,
  "metadata": {
    "colab": {
      "name": "IntroToNN.ipynb",
      "provenance": [],
      "authorship_tag": "ABX9TyN/oVFZMOOuP8PUYs0CHxNh",
      "include_colab_link": true
    },
    "kernelspec": {
      "name": "python3",
      "display_name": "Python 3"
    },
    "language_info": {
      "name": "python"
    }
  },
  "cells": [
    {
      "cell_type": "markdown",
      "metadata": {
        "id": "view-in-github",
        "colab_type": "text"
      },
      "source": [
        "<a href=\"https://colab.research.google.com/gist/dmurali12/1d6e379f1b0b58f06c50e507e2ef738c/introtonn.ipynb\" target=\"_parent\"><img src=\"https://colab.research.google.com/assets/colab-badge.svg\" alt=\"Open In Colab\"/></a>"
      ]
    },
    {
      "cell_type": "code",
      "execution_count": null,
      "metadata": {
        "id": "gs3NPCBV_bB4"
      },
      "outputs": [],
      "source": [
        "import numpy as np"
      ]
    },
    {
      "cell_type": "markdown",
      "source": [
        "# Activation Functions"
      ],
      "metadata": {
        "id": "Sv_GsHUD_syr"
      }
    },
    {
      "cell_type": "code",
      "source": [
        "# Sigmoid activation\n",
        "def sigmoid(x):\n",
        "    return 1 / (1 + np.exp(-x))"
      ],
      "metadata": {
        "id": "zp0uZUmF_cby"
      },
      "execution_count": null,
      "outputs": []
    },
    {
      "cell_type": "code",
      "source": [
        "# Derivative of Sigmoid Funciton\n",
        "def sigmoid_der(x):\n",
        "  return sigmoid(x) * (1 - sigmoid(x))"
      ],
      "metadata": {
        "id": "QsEhJJ7NLZkm"
      },
      "execution_count": null,
      "outputs": []
    },
    {
      "cell_type": "code",
      "source": [
        "# Binary (the step-wise function)\n",
        "def binary(x):\n",
        "    if x > 0.1: # See what happens if you change the threshold!\n",
        "        return 1\n",
        "    else:\n",
        "        return 0"
      ],
      "metadata": {
        "id": "faQcxK4C_hhK"
      },
      "execution_count": null,
      "outputs": []
    },
    {
      "cell_type": "markdown",
      "source": [
        "# MSE Loss"
      ],
      "metadata": {
        "id": "85fSupmmDGoL"
      }
    },
    {
      "cell_type": "code",
      "source": [
        "# MSEL\n",
        "\n",
        "def mse_loss(y_true, y_pred):\n",
        "  return ((y_true - y_pred) ** 2).mean()"
      ],
      "metadata": {
        "id": "YudiGeCzDJ_8"
      },
      "execution_count": null,
      "outputs": []
    },
    {
      "cell_type": "markdown",
      "source": [
        "Here, you can input your own values and see how the MSE changes"
      ],
      "metadata": {
        "id": "k8qqe4NkDgQC"
      }
    },
    {
      "cell_type": "code",
      "source": [
        "y_true = np.array([1, 1, 1, 1]) # You can change these values\n",
        "y_pred = np.array([1, 0, 1, 0]) # You can change these values\n",
        "\n",
        "print(mse_loss(y_true, y_pred))"
      ],
      "metadata": {
        "colab": {
          "base_uri": "https://localhost:8080/"
        },
        "id": "0FBkoaj0Df1R",
        "outputId": "96427225-cc74-40c3-a1d0-c07caa63db39"
      },
      "execution_count": null,
      "outputs": [
        {
          "output_type": "stream",
          "name": "stdout",
          "text": [
            "0.5\n"
          ]
        }
      ]
    },
    {
      "cell_type": "markdown",
      "source": [
        "# The Neuron"
      ],
      "metadata": {
        "id": "Wf1Osoyx_7Gd"
      }
    },
    {
      "cell_type": "markdown",
      "source": [
        "You can change the activation of the neuron by modifying what function it uses"
      ],
      "metadata": {
        "id": "nDDLr2tWAAVP"
      }
    },
    {
      "cell_type": "code",
      "source": [
        "class Neuron:\n",
        "    def __init__(self, weights, bias):\n",
        "        self.weights = weights\n",
        "        self.bias = bias\n",
        "        \n",
        "    def feedforward(self, inputs):\n",
        "        total = np.dot(self.weights, inputs) + self.bias #np.dot is the dot product\n",
        "        return binary(total) # Modify the function right here"
      ],
      "metadata": {
        "id": "5Ohl2809_jXn"
      },
      "execution_count": null,
      "outputs": []
    },
    {
      "cell_type": "markdown",
      "source": [
        "Here, you can try to see what the output of a specific neuron would be. This kernel is optional. So you don't have to run it in order for the network to work."
      ],
      "metadata": {
        "id": "PO4WotFSebgs"
      }
    },
    {
      "cell_type": "code",
      "source": [
        "# You can change all of these values, but make sure that the number of weights is the same as the number of inputs\n",
        "weights = np.array([1, 1])\n",
        "inputs = np.array([1, 2])\n",
        "bias = 1\n",
        "\n",
        "neuron = Neuron(weights, bias)\n",
        "print(neuron.feedforward(inputs))"
      ],
      "metadata": {
        "colab": {
          "base_uri": "https://localhost:8080/"
        },
        "id": "16yB63jLekYo",
        "outputId": "f1431a01-5f13-4c10-ce0a-209278052a85"
      },
      "execution_count": null,
      "outputs": [
        {
          "output_type": "stream",
          "name": "stdout",
          "text": [
            "1\n"
          ]
        }
      ]
    },
    {
      "cell_type": "markdown",
      "source": [
        "# The Network"
      ],
      "metadata": {
        "id": "UbZHVXUKDFDV"
      }
    },
    {
      "cell_type": "markdown",
      "source": [
        "This is the easy network that I coded without the loss."
      ],
      "metadata": {
        "id": "z-N9ZzDaK_ZC"
      }
    },
    {
      "cell_type": "code",
      "source": [
        "class Network:\n",
        "  def __init__(self):\n",
        "    weights = np.array([1, 1]) # Change the values in the array to see how the weights affect it!\n",
        "    bias = 0 # You can also change this and see what happens\n",
        "\n",
        "    # Define the units AS neurons\n",
        "    self.h1 = Neuron(weights, bias)\n",
        "    self.h2 = Neuron(weights, bias)\n",
        "    self.o1 = Neuron(weights, bias)\n",
        "\n",
        "  def feedforward(self, x):\n",
        "    out_h1 = self.h1.feedforward(x)\n",
        "    out_h2 = self.h2.feedforward(x)\n",
        "\n",
        "    out_o1 = self.o1.feedforward(np.array([out_h1, out_h2]))\n",
        "\n",
        "    return out_o1"
      ],
      "metadata": {
        "id": "P48V90hM_lp0"
      },
      "execution_count": null,
      "outputs": []
    },
    {
      "cell_type": "markdown",
      "source": [
        "This network doesn't really deal with loss, as I want to keep this page as easy reference for the concepts we covered in the class. [This](https://replit.com/@vzhou842/An-Introduction-to-Neural-Networks) Replit is a code that allows you to play with that more."
      ],
      "metadata": {
        "id": "J2tFukBuLENp"
      }
    },
    {
      "cell_type": "markdown",
      "source": [
        "# Running the Network"
      ],
      "metadata": {
        "id": "rdEK7A5TFZsk"
      }
    },
    {
      "cell_type": "code",
      "source": [
        "network = Network()\n",
        "x = np.array([1, -]) # you can change this!\n",
        "print(network.feedforward(x))\n",
        "# print(np.dot(x, np.array([1, 1, 1])))"
      ],
      "metadata": {
        "colab": {
          "base_uri": "https://localhost:8080/"
        },
        "id": "dDlJVQTZFU3f",
        "outputId": "4a3e057f-beb1-4fca-cf15-996f52888d39"
      },
      "execution_count": null,
      "outputs": [
        {
          "output_type": "stream",
          "name": "stdout",
          "text": [
            "0\n"
          ]
        }
      ]
    },
    {
      "cell_type": "code",
      "source": [
        ""
      ],
      "metadata": {
        "id": "ZN12iZj1FkDJ"
      },
      "execution_count": null,
      "outputs": []
    },
    {
      "cell_type": "markdown",
      "source": [
        "#Resources\n",
        "\n",
        "This notebook is really just a beginning to an incredibly vast, diverse and complex field. I would encourage you to look into it a lot more. Below, I've linked a couple resources that I think are a good place to start\n",
        "\n",
        "I code entirely in Python, so unfortunately most things here are Python based, but the concepts are the same. I think that the most important programming concept to grasp is object oriented programming (this is the 'classes' stuff). \n",
        "\n",
        "\n",
        "## Python (and programming skills in general)\n",
        "\n",
        "[Learning Python](https://www.youtube.com/watch?v=YYXdXT2l-Gg&list=PL-osiE80TeTskrapNbzXhwoFUiLCjGgY7)\n",
        "\n",
        "[Object Oriented Programming](https://www.youtube.com/watch?v=ZDa-Z5JzLYM&list=PL-osiE80TeTsqhIuOqKhwlXsIBIdSeYtc)\n",
        "\n",
        "## Neural Networks Theory\n",
        "\n",
        "These resources don't talk about the programming aspects but rather the theory and math behind neural networks. While we scratched the surface, there's quite a bit that was well beyond the scope of the course. These resources are great places to go from here.\n",
        "\n",
        "[Deep Learning](https://www.youtube.com/watch?v=aircAruvnKk&list=PLZHQObOWTQDNU6R1_67000Dx_ZCJB-3pi)\n",
        "\n",
        "[Activation Functions](https://towardsdatascience.com/activation-functions-neural-networks-1cbd9f8d91d6)\n",
        "\n",
        "[Intuitive Deep Learning](https://medium.com/intuitive-deep-learning/intuitive-deep-learning-part-1a-introduction-to-neural-networks-d7b16ebf6b99)\n",
        "\n",
        "## Building NNs from Scratch\n",
        "\n",
        "These resources will help you understand neural networks as well as the programming aspects.\n",
        "\n",
        "[Machine Learning From Scratch](https://victorzhou.com/blog/intro-to-neural-networks/)\n",
        "\n",
        "[Neural Networks from Scratch](https://www.youtube.com/watch?v=Wo5dMEP_BbI&list=PLQVvvaa0QuDcjD5BAw2DxE6OF2tius3V3)\n",
        "\n",
        "\n",
        "\n",
        "\n",
        "\n",
        "\n",
        "\n"
      ],
      "metadata": {
        "id": "h5uolfhOM6Ou"
      }
    },
    {
      "cell_type": "markdown",
      "source": [
        ""
      ],
      "metadata": {
        "id": "EqS_PID7N4zA"
      }
    },
    {
      "cell_type": "code",
      "source": [
        ""
      ],
      "metadata": {
        "id": "Eq3_e5IDN3Sh"
      },
      "execution_count": null,
      "outputs": []
    }
  ]
}